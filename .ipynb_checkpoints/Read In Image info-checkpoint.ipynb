{
 "cells": [
  {
   "cell_type": "code",
   "execution_count": 20,
   "metadata": {},
   "outputs": [],
   "source": [
    "import pandas as pd\n",
    "import numpy as np\n",
    "import os, math, sys"
   ]
  },
  {
   "cell_type": "code",
   "execution_count": 25,
   "metadata": {},
   "outputs": [],
   "source": [
    "# defaults:\n",
    "def save_it_all(obj, filename):\n",
    "    os.makedirs(os.path.dirname(filename), exist_ok=True)\n",
    "    with open(filename, 'wb') as output:  # Overwrites any existing file.\n",
    "        pickle.dump(obj, output, pickle.HIGHEST_PROTOCOL)\n",
    "\n",
    "def load_objects(file):\n",
    "    with open(file, 'rb') as input:\n",
    "        return pickle.load(input)\n",
    "    \n",
    "def saveFrame(df, name):\n",
    "    df.to_csv(name+\".csv\", index=False, sep=\",\", header=True)\n",
    "    save_it_all(df, name+\".pkl\")\n",
    "    \n",
    "def read(filename):\n",
    "    with open(filename) as f:\n",
    "        content = f.readlines()\n",
    "    # you may also want to remove whitespace characters like `\\n` at the end of each line\n",
    "    content = [x.strip() for x in content] \n",
    "    return content\n",
    "\n",
    "def write(my_list):\n",
    "    with open('your_file.csv', 'w') as f:\n",
    "        for item in my_list:\n",
    "            f.write(\"%s\\n\" % item)"
   ]
  },
  {
   "cell_type": "code",
   "execution_count": 31,
   "metadata": {},
   "outputs": [],
   "source": [
    "content = read(\"digits-training.data\")\n",
    "header = \"\"\n",
    "for lineNum in range(0 , len(content[0].split(\" \"))):\n",
    "    if(lineNum == len(content[0].split(\" \"))-1):\n",
    "        header = header + \"Target\"\n",
    "    else:\n",
    "        header = header + str(lineNum) + \" \" \n",
    "    \n",
    "result = [header] + content \n",
    "write(result)"
   ]
  },
  {
   "cell_type": "code",
   "execution_count": 61,
   "metadata": {},
   "outputs": [],
   "source": [
    "data = pd.read_csv('your_file.csv', sep=\" \")\n",
    "inputsOnly = data.drop(columns=[\"Target\"])\n",
    "\n",
    "others = list(np.arange(0,64,1))\n",
    "results = list(map(str, others))\n",
    "\n",
    "targets = data.drop(columns=results)"
   ]
  },
  {
   "cell_type": "code",
   "execution_count": 62,
   "metadata": {},
   "outputs": [],
   "source": [
    "inputs = inputsOnly.values\n",
    "targets = targets.values"
   ]
  },
  {
   "cell_type": "markdown",
   "metadata": {},
   "source": [
    "# Structure\n",
    "https://stats.stackexchange.com/questions/181/how-to-choose-the-number-of-hidden-layers-and-nodes-in-a-feedforward-neural-netw"
   ]
  },
  {
   "cell_type": "code",
   "execution_count": 74,
   "metadata": {},
   "outputs": [],
   "source": [
    "# weights matrix for theta1\n",
    "# if we have a bipartite graph from 64(including bias) nodes to 26(including bias) nodes we have m*n edges\n",
    "# we will have m columns and n rows where the number of input nodes is m and the number of hidden nodes is n\n",
    "# 26 row and 64 columns\n",
    "# Initialize theta1\n",
    "theta1 = np.random.uniform(low=-0.1, high=0.1, size=(25*63,))\n",
    "theta1 = theta1.reshape(63,25)\n",
    "\n",
    "theta2 = np.random.uniform(low=-0.1, high=0.1, size=(10*25,))\n",
    "theta2 = theta2.reshape(25,10)\n"
   ]
  },
  {
   "cell_type": "code",
   "execution_count": null,
   "metadata": {},
   "outputs": [],
   "source": [
    "# add bias to the inputs\n",
    "biasA1 = np.ones(inputs.shape[0])\n",
    "inputs = np.append(biasA1, inputs, 1)\n",
    "# add bias to the weights\n"
   ]
  }
 ],
 "metadata": {
  "kernelspec": {
   "display_name": "Python 3",
   "language": "python",
   "name": "python3"
  },
  "language_info": {
   "codemirror_mode": {
    "name": "ipython",
    "version": 3
   },
   "file_extension": ".py",
   "mimetype": "text/x-python",
   "name": "python",
   "nbconvert_exporter": "python",
   "pygments_lexer": "ipython3",
   "version": "3.7.2"
  }
 },
 "nbformat": 4,
 "nbformat_minor": 2
}
