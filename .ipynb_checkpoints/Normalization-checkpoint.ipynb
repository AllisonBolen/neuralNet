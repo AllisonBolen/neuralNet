{
 "cells": [
  {
   "cell_type": "code",
   "execution_count": null,
   "metadata": {},
   "outputs": [],
   "source": [
    "import pandas as pd\n",
    "import numpy as np\n",
    "import os, math, sys\n",
    "import pickle"
   ]
  },
  {
   "cell_type": "code",
   "execution_count": null,
   "metadata": {},
   "outputs": [],
   "source": [
    "# defaults:\n",
    "def digitLineByLine(data, d):\n",
    "    info = []\n",
    "    for index, row in data.iterrows():\n",
    "        test = []\n",
    "        for col in data:\n",
    "            item = row[col]\n",
    "            test.append(d[item])\n",
    "        info.append(test)\n",
    "    return info\n",
    "\n",
    "def lineByLine(data, d):\n",
    "    info = []\n",
    "    for index, row in data.iterrows():\n",
    "        test = []\n",
    "        for col in data:\n",
    "            item = row[col]\n",
    "            if type(d[col][item]) is list:\n",
    "                test.extend(d[col][item])\n",
    "            else:\n",
    "                test.append(d[col][item])\n",
    "        info.append(test)\n",
    "    return info\n",
    "\n",
    "def oneHot(data, col, d):\n",
    "    itemList = pd.unique(data[[col]].values.ravel('K'))\n",
    "    count = 0\n",
    "    for currItem in itemList:\n",
    "        count = count + 1\n",
    "        array = np.identity(d[col]['count'])\n",
    "#         print(currItem + \": \"+ str(array[count-1:count,:]))\n",
    "        d[col][currItem]=array[count-1:count,:].tolist()[0]\n",
    "        \n",
    "    return d\n",
    "\n",
    "def normalize(data):\n",
    "    itemList = pd.unique(data.values.ravel('K'))\n",
    "    x = {}\n",
    "    for currItem in itemList:\n",
    "        new = (currItem - min(itemList))/(max(itemList)-min(itemList))\n",
    "        x[currItem] = new\n",
    "    return x\n",
    "\n",
    "def isDigits(data):\n",
    "    dc = 0\n",
    "    for item in data:\n",
    "        if type(item) is int:\n",
    "            dc = dc +1\n",
    "    if dc == len(data):\n",
    "        return True\n",
    "    else:\n",
    "        return False\n",
    "\n",
    "def detectTypes(data):\n",
    "    d = {}\n",
    "    \n",
    "    if isDigits(pd.unique(data.values.ravel('K')).tolist()):\n",
    "        d = normalize(data)\n",
    "    else: \n",
    "        for col in data.columns.values.tolist():\n",
    "    #         print(col)\n",
    "            d[col] = {\"count\":len(data[col].unique().tolist())}\n",
    "            # check types\n",
    "            for item in pd.unique(data[[col]].values.ravel('K')):\n",
    "    #             print(\"\\t\"+item)\n",
    "                if d[col][\"count\"] == 2:\n",
    "                    # binary attribute\n",
    "                    if 0 in d[col].values():\n",
    "                        d[col][item] = 1.0\n",
    "                    else:\n",
    "                        d[col][item] = 0\n",
    "                else:\n",
    "                    d = oneHot(data, col, d)\n",
    "    \n",
    "    return d\n",
    "\n",
    "def save_it_all(obj, filename):\n",
    "    os.makedirs(os.path.dirname(filename), exist_ok=True)\n",
    "    with open(filename, 'wb') as output:  # Overwrites any existing file.\n",
    "        pickle.dump(obj, output, pickle.HIGHEST_PROTOCOL)\n",
    "\n",
    "def load_objects(file):\n",
    "    with open(file, 'rb') as input:\n",
    "        return pickle.load(input)\n",
    "    \n",
    "def saveFrame(df, name):\n",
    "    df.to_csv(name+\".csv\", index=False, sep=\",\", header=True)\n",
    "    save_it_all(df, name+\".pkl\")\n",
    "    \n",
    "def read(filename):\n",
    "    with open(filename) as f:\n",
    "        content = f.readlines()\n",
    "    # you may also want to remove whitespace characters like `\\n` at the end of each line\n",
    "    content = [x.strip() for x in content] \n",
    "    return content\n",
    "\n",
    "def write(my_list, name):\n",
    "    with open(name+'.csv', 'w') as f:\n",
    "        for item in my_list:\n",
    "            f.write(\"%s\\n\" % item)\n",
    "            \n",
    "def load_objects(file):\n",
    "    with open(file, 'rb') as input:\n",
    "        return pickle.load(input)\n",
    "    \n",
    "def onehotTargets(targets):\n",
    "    #for target in targets.tolist():\n",
    "    targetSet = list(set(targets.tolist()))\n",
    "    dicT = {}\n",
    "    count = 0\n",
    "    for currItem in targetSet:\n",
    "        count = count + 1\n",
    "        array = np.identity(len(targetSet))\n",
    "    #         print(currItem + \": \"+ str(array[count-1:count,:]))\n",
    "        dicT[currItem]=array[count-1:count,:].tolist()[0]\n",
    "\n",
    "    return dicT"
   ]
  },
  {
   "cell_type": "markdown",
   "metadata": {},
   "source": [
    "When encoding binary and categorical data, there are four cases you must deal with: independent (x) binary data, dependent (y) binary data, independent (x) categorical data and dependent (y) categorical data. \n",
    "\n",
    "\n",
    "\n",
    "Wind,2,Strong,Weak\n",
    "Water,3,Warm,Moderate,Cold\n",
    "Air,2,Warm,Cool\n",
    "Forecast,3,Sunny,Cloudy,Rainy\n"
   ]
  },
  {
   "cell_type": "code",
   "execution_count": null,
   "metadata": {},
   "outputs": [],
   "source": [
    "content = read(\"fishingNN.data\")\n",
    "header = \"wind,water,air,forcast,class\"\n",
    "header = [header] + content\n",
    "header\n",
    "write(header, \"FishEdit\")"
   ]
  },
  {
   "cell_type": "code",
   "execution_count": null,
   "metadata": {},
   "outputs": [],
   "source": [
    "data = pd.read_csv('FishEdit.csv', sep=\",\")\n",
    "x = detectTypes(data)\n",
    "x[\"class\"][\"Yes\"] = 1 \n",
    "x[\"class\"][\"No\"] = 0 \n",
    "save_it_all(x, \"./FishCleanDict.pkl\")\n",
    "new = lineByLine(data, x)\n",
    "df = pd.DataFrame(new, columns=range(0,len(new[0])))"
   ]
  },
  {
   "cell_type": "code",
   "execution_count": null,
   "metadata": {},
   "outputs": [],
   "source": [
    "df.to_csv(\"normalizeFish.csv\", sep=',', index=None, header=None)   \n",
    "test = pd.read_csv(\"normalizeFish.csv\", sep=',', header=None)\n",
    "test"
   ]
  },
  {
   "cell_type": "markdown",
   "metadata": {},
   "source": [
    "Read in the digit set\n"
   ]
  },
  {
   "cell_type": "code",
   "execution_count": null,
   "metadata": {},
   "outputs": [],
   "source": [
    "# digitDataWithClass = pd.read_csv(\"digits-training.data\", sep=\" \", header=None)\n",
    "# digitData = digitDataWithClass.loc[:,:64].copy()\n",
    "digitDataTotal = pd.read_csv(\"digits-training.data\", sep=\" \", header=None)\n",
    "x = detectTypes(digitDataTotal)\n",
    "\n",
    "new = digitLineByLine(digitDataTotal, x)\n",
    "df = pd.DataFrame(new, columns=range(0,len(new[0])))"
   ]
  },
  {
   "cell_type": "code",
   "execution_count": null,
   "metadata": {},
   "outputs": [],
   "source": [
    "df\n",
    "df.to_csv(\"normDigit.csv\", sep=',', index=None, header=None)   \n",
    "test = pd.read_csv(\"normDigit.csv\", sep=',', header=None)\n"
   ]
  },
  {
   "cell_type": "markdown",
   "metadata": {},
   "source": [
    "## process the test sets:\n"
   ]
  },
  {
   "cell_type": "code",
   "execution_count": null,
   "metadata": {},
   "outputs": [],
   "source": [
    "testFish = pd.read_csv('fishTest.csv', sep=\",\")\n",
    "testFish\n",
    "\n",
    "cleanDict = load_objects(\"./FishCleanDict.pkl\")\n",
    "cleanDict\n",
    "\n",
    "cleanTest = lineByLine(testFish, cleanDict)\n",
    "cleanTest\n",
    "\n",
    "dfx = pd.DataFrame(cleanTest, columns=range(0,len(cleanTest[0])))\n",
    "\n",
    "dfx.to_csv(\"normalizeFishTest.csv\", sep=',', index=None, header=None)   \n",
    "test = pd.read_csv(\"normalizeFishTest.csv\", sep=',', header=None)\n",
    "test"
   ]
  },
  {
   "cell_type": "markdown",
   "metadata": {},
   "source": [
    "# One hot encode digit targets"
   ]
  },
  {
   "cell_type": "code",
   "execution_count": null,
   "metadata": {},
   "outputs": [],
   "source": [
    "digitDataTotal = pd.read_csv(\"digits-training.data\", sep=\" \", header=None)\n",
    "\n",
    "targets = digitDataTotal[64]\n",
    "features = digitDataTotal.iloc[:,0:64]\n",
    "\n",
    "\n",
    "x = detectTypes(features)\n",
    "save_it_all(x, \"./digitCleanDict.pkl\")\n",
    "\n",
    "f = onehotTargets(targets)\n",
    "save_it_all(f, \"./digitTargetCleanDict.pkl\")\n",
    "\n",
    "new = digitLineByLine(features, x)\n",
    "\n",
    "df = pd.DataFrame(new, columns=range(0,len(new[0])))\n",
    "df[64] = targets.tolist()\n",
    "\n",
    "df.to_csv(\"normDigit.csv\", sep=',', index=None, header=None)   \n",
    "test = pd.read_csv(\"normDigit.csv\", sep=',', header=None)\n",
    "test"
   ]
  },
  {
   "cell_type": "code",
   "execution_count": null,
   "metadata": {},
   "outputs": [],
   "source": [
    "# Digit Test set\n",
    "\n",
    "digitDataTotal = pd.read_csv(\"digits-training.data\", sep=\" \", header=None)\n",
    "\n",
    "targets = digitDataTotal[64]\n",
    "features = digitDataTotal.iloc[:,0:64]\n",
    "\n",
    "\n",
    "x = detectTypes(features)\n",
    "save_it_all(x, \"./digitCleanDict.pkl\")\n",
    "\n",
    "f = onehotTargets(targets)\n",
    "save_it_all(f, \"./digitTargetCleanDict.pkl\")\n",
    "\n",
    "new = digitLineByLine(features, x)\n",
    "\n",
    "df = pd.DataFrame(new, columns=range(0,len(new[0])))\n",
    "df[64] = targets.tolist()\n",
    "\n",
    "df.to_csv(\"normDigit.csv\", sep=',', index=None, header=None)   \n",
    "test = pd.read_csv(\"normDigit.csv\", sep=',', header=None)\n",
    "test"
   ]
  }
 ],
 "metadata": {
  "kernelspec": {
   "display_name": "Python 3",
   "language": "python",
   "name": "python3"
  },
  "language_info": {
   "codemirror_mode": {
    "name": "ipython",
    "version": 3
   },
   "file_extension": ".py",
   "mimetype": "text/x-python",
   "name": "python",
   "nbconvert_exporter": "python",
   "pygments_lexer": "ipython3",
   "version": "3.7.2"
  }
 },
 "nbformat": 4,
 "nbformat_minor": 2
}
